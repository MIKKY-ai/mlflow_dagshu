{
 "cells": [
  {
   "cell_type": "code",
   "execution_count": 4,
   "id": "955df0e6-623e-4c37-abdb-0604710b7d83",
   "metadata": {},
   "outputs": [
    {
     "name": "stdout",
     "output_type": "stream",
     "text": [
      "Collecting xgboost\n",
      "  Downloading xgboost-2.1.3-py3-none-macosx_10_15_x86_64.macosx_11_0_x86_64.macosx_12_0_x86_64.whl.metadata (2.1 kB)\n",
      "Requirement already satisfied: numpy in /Users/mikkychilaka/anaconda3/lib/python3.10/site-packages (from xgboost) (1.23.5)\n",
      "Requirement already satisfied: scipy in /Users/mikkychilaka/anaconda3/lib/python3.10/site-packages (from xgboost) (1.13.0)\n",
      "Downloading xgboost-2.1.3-py3-none-macosx_10_15_x86_64.macosx_11_0_x86_64.macosx_12_0_x86_64.whl (2.1 MB)\n",
      "\u001b[2K   \u001b[90m━━━━━━━━━━━━━━━━━━━━━━━━━━━━━━━━━━━━━━━━\u001b[0m \u001b[32m2.1/2.1 MB\u001b[0m \u001b[31m3.5 MB/s\u001b[0m eta \u001b[36m0:00:00\u001b[0ma \u001b[36m0:00:01\u001b[0m\n",
      "\u001b[?25hInstalling collected packages: xgboost\n",
      "Successfully installed xgboost-2.1.3\n",
      "Note: you may need to restart the kernel to use updated packages.\n"
     ]
    }
   ],
   "source": [
    "pip install xgboost"
   ]
  },
  {
   "cell_type": "code",
   "execution_count": 7,
   "id": "f4ed0248-c648-4c20-a0e8-594d10239db8",
   "metadata": {},
   "outputs": [],
   "source": [
    "import numpy as np\n",
    "from sklearn.datasets import make_classification\n",
    "from sklearn.model_selection import train_test_split\n",
    "from sklearn.linear_model import LogisticRegression\n",
    "from sklearn.ensemble import RandomForestClassifier\n",
    "from xgboost import XGBClassifier\n",
    "from sklearn.metrics import classification_report\n",
    "import warnings\n",
    "warnings.filterwarnings('ignore')"
   ]
  },
  {
   "cell_type": "code",
   "execution_count": 11,
   "id": "cfe33703-7026-43ed-ae4e-494e827bbc4a",
   "metadata": {},
   "outputs": [
    {
     "data": {
      "text/plain": [
       "(array([0, 1]), array([90, 10]))"
      ]
     },
     "execution_count": 11,
     "metadata": {},
     "output_type": "execute_result"
    }
   ],
   "source": [
    "## Create an imbalanced binary Classification dataset\n",
    "x, y = make_classification(n_samples=100, n_features=10, n_informative=2, n_redundant=8, weights=[0.9,0.1], flip_y=0, random_state=42)\n",
    "np.unique(y,return_counts=True)"
   ]
  },
  {
   "cell_type": "code",
   "execution_count": 12,
   "id": "f60ed504-2328-4f1f-8364-6e62a8335a6d",
   "metadata": {},
   "outputs": [],
   "source": [
    "# Train Test Split\n",
    "x_train, x_test, y_train, y_test = train_test_split(x,y,test_size=0.3, stratify=y, random_state=42)"
   ]
  },
  {
   "cell_type": "code",
   "execution_count": 14,
   "id": "84bcef22-b91d-4d00-9ad0-a8648b2c6ef0",
   "metadata": {},
   "outputs": [
    {
     "name": "stdout",
     "output_type": "stream",
     "text": [
      "              precision    recall  f1-score   support\n",
      "\n",
      "           0       0.93      1.00      0.96        27\n",
      "           1       1.00      0.33      0.50         3\n",
      "\n",
      "    accuracy                           0.93        30\n",
      "   macro avg       0.97      0.67      0.73        30\n",
      "weighted avg       0.94      0.93      0.92        30\n",
      "\n"
     ]
    }
   ],
   "source": [
    "params = {\n",
    "    \"solver\": \"lbfgs\",\n",
    "    \"max_iter\": 1000,\n",
    "    \"multi_class\": \"auto\"\n",
    "}\n",
    "lr = LogisticRegression(**params)\n",
    "lr.fit(x_train,y_train)\n",
    "\n",
    "y_pred = lr.predict(x_test)\n",
    "\n",
    "report = classification_report(y_test, y_pred)\n",
    "print(report)"
   ]
  },
  {
   "cell_type": "code",
   "execution_count": 15,
   "id": "33f17b8c-0a8a-4c5d-8833-2b06a68891ea",
   "metadata": {},
   "outputs": [
    {
     "data": {
      "text/plain": [
       "{'0': {'precision': 0.9310344827586207,\n",
       "  'recall': 1.0,\n",
       "  'f1-score': 0.9642857142857143,\n",
       "  'support': 27.0},\n",
       " '1': {'precision': 1.0,\n",
       "  'recall': 0.3333333333333333,\n",
       "  'f1-score': 0.5,\n",
       "  'support': 3.0},\n",
       " 'accuracy': 0.9333333333333333,\n",
       " 'macro avg': {'precision': 0.9655172413793103,\n",
       "  'recall': 0.6666666666666666,\n",
       "  'f1-score': 0.7321428571428572,\n",
       "  'support': 30.0},\n",
       " 'weighted avg': {'precision': 0.9379310344827586,\n",
       "  'recall': 0.9333333333333333,\n",
       "  'f1-score': 0.9178571428571428,\n",
       "  'support': 30.0}}"
      ]
     },
     "execution_count": 15,
     "metadata": {},
     "output_type": "execute_result"
    }
   ],
   "source": [
    "report_dict = classification_report(y_test, y_pred, output_dict = True)\n",
    "report_dict"
   ]
  },
  {
   "cell_type": "code",
   "execution_count": 16,
   "id": "4061833a-0338-4b50-a9b2-b4809a73cfd6",
   "metadata": {},
   "outputs": [],
   "source": [
    "import mlflow"
   ]
  },
  {
   "cell_type": "code",
   "execution_count": 18,
   "id": "bf75da5e-c94f-41e6-b569-90c47d66305e",
   "metadata": {},
   "outputs": [
    {
     "name": "stderr",
     "output_type": "stream",
     "text": [
      "2024/12/12 12:43:30 INFO mlflow.tracking.fluent: Experiment with name 'first Experiment' does not exist. Creating a new experiment.\n",
      "\u001b[31m2024/12/12 12:43:35 WARNING mlflow.models.model: Model logged without a signature and input example. Please set `input_example` parameter when logging the model to auto infer the model signature.\u001b[0m\n"
     ]
    },
    {
     "name": "stdout",
     "output_type": "stream",
     "text": [
      "🏃 View run likeable-hawk-29 at: http://127.0.0.1:5000/#/experiments/199319715451295480/runs/ec6754ea009b4845912748d14f4e9070\n",
      "🧪 View experiment at: http://127.0.0.1:5000/#/experiments/199319715451295480\n"
     ]
    }
   ],
   "source": [
    "mlflow.set_experiment(\"first Experiment\")\n",
    "mlflow.set_tracking_uri(\"http://127.0.0.1:5000/\")\n",
    "\n",
    "with mlflow.start_run():\n",
    "    mlflow.log_params(params)\n",
    "    mlflow.log_metrics({\n",
    "        'accuracy': report_dict['accuracy'],\n",
    "        'recall_class_0': report_dict['0']['recall'],\n",
    "        'recall_class_1': report_dict['1']['recall'],\n",
    "        'f1_score_macro': report_dict['macro avg']['f1-score']\n",
    "    })\n",
    "    mlflow.sklearn.log_model(lr, \"LogisticRegression\")"
   ]
  },
  {
   "cell_type": "code",
   "execution_count": null,
   "id": "c9928e52-f379-4406-bbc4-05f42a778ba5",
   "metadata": {},
   "outputs": [],
   "source": []
  }
 ],
 "metadata": {
  "kernelspec": {
   "display_name": "Python 3 (ipykernel)",
   "language": "python",
   "name": "python3"
  },
  "language_info": {
   "codemirror_mode": {
    "name": "ipython",
    "version": 3
   },
   "file_extension": ".py",
   "mimetype": "text/x-python",
   "name": "python",
   "nbconvert_exporter": "python",
   "pygments_lexer": "ipython3",
   "version": "3.10.9"
  }
 },
 "nbformat": 4,
 "nbformat_minor": 5
}
